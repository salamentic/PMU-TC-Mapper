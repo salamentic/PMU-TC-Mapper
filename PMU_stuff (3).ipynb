{
  "nbformat": 4,
  "nbformat_minor": 0,
  "metadata": {
    "colab": {
      "name": "PMU stuff.ipynb",
      "provenance": [],
      "collapsed_sections": []
    },
    "kernelspec": {
      "name": "python3",
      "display_name": "Python 3"
    }
  },
  "cells": [
    {
      "cell_type": "code",
      "metadata": {
        "id": "ZU9chtHOATdq",
        "colab_type": "code",
        "colab": {}
      },
      "source": [
        "import pandas as pd\n",
        "from pprint import pprint"
      ],
      "execution_count": 0,
      "outputs": []
    },
    {
      "cell_type": "code",
      "metadata": {
        "id": "jtEja_LxA1AX",
        "colab_type": "code",
        "colab": {}
      },
      "source": [
        "file = pd.ExcelFile(\"TC-guide.xlsx\")\n",
        "file = pd.read_excel(file, \"Data\")"
      ],
      "execution_count": 0,
      "outputs": []
    },
    {
      "cell_type": "code",
      "metadata": {
        "id": "WkZlsS-SBR3T",
        "colab_type": "code",
        "outputId": "19b8cece-e396-4ad4-bc79-a4412e9d519a",
        "colab": {
          "base_uri": "https://localhost:8080/",
          "height": 73
        }
      },
      "source": [
        "# Fill all the NaNs with 0s.\n",
        "file = file.fillna(0)\n",
        "\n",
        "# Adjacency matrix for graph.\n",
        "mat = {}\n",
        "\n",
        "keyfloor = set()\n",
        "import collections\n",
        "switchfloor = collections.defaultdict(list)\n",
        "\n",
        "# For every row in our excel file.\n",
        "for idx,x in enumerate(file.as_matrix()):\n",
        "  for idy,y in enumerate(x):\n",
        "\n",
        "    # If this is a key.\n",
        "    if y!=0 and \"Key\" in y and \"+\" not in y:\n",
        "      if str(idx) + file.columns[idy] not in mat:\n",
        "        mat[str(idx)+file.columns[idy]] = {}\n",
        "      mat[str(idx)+file.columns[idy]][str(idx+1)+file.columns[idy]] = -1\n",
        "      keyfloor.add(str(idx)+file.columns[idy])\n",
        "    \n",
        "    # If the cell is not only a key.\n",
        "    elif y != 0 and y != \"Exit\" and y!= \"Mew\":\n",
        "      ex = False\n",
        "      #For all cells with format \"something+switch\"\n",
        "      if \"+\" in y:          \n",
        "          # For cells with format \"Exit+switch\"\n",
        "          if \"Exit\" in y:\n",
        "            if str(idx) + file.columns[idy] not in mat:\n",
        "              mat[str(idx)+file.columns[idy]] = {}\n",
        "            mat[str(idx)+file.columns[idy]][str(idx+1)+file.columns[idy]] = 10000\n",
        "            ex = True\n",
        "          \n",
        "          # For cells with format \"Key+switch\"\n",
        "          if \"Key\" in y:\n",
        "            if str(idx) + file.columns[idy] not in mat:\n",
        "              mat[str(idx)+file.columns[idy]] = {}\n",
        "            mat[str(idx)+file.columns[idy]][str(idx+1)+file.columns[idy]] = -1\n",
        "            keyfloor.add(str(idx)+file.columns[idy])\n",
        "          y = y[y.index(\"+\")+1:]\n",
        "          if \"Mew\" in y:\n",
        "            if \"+\" in y:\n",
        "              y = y[y.index(\"+\")+1:]\n",
        "            else:\n",
        "              y = \"\"\n",
        "      # Converting all switches to edges in graph\n",
        "      for c in y:\n",
        "        # Convert to lower for consistency.\n",
        "        c = c.lower()\n",
        "        \n",
        "        # If the character is a letter from c to q, based on columns in the xl\n",
        "        if ord(c) >= 97 and ord(c) <= ord('q') :\n",
        "          # If our floor+chamber string is not in the graph, add the entry.\n",
        "          if str(idx) + file.columns[idy] not in mat:\n",
        "            mat[str(idx)+file.columns[idy]] = {}\n",
        "          # Form edge from switch on this floor to next floor in resp. chamber.\n",
        "          # Weighted 1 to add requirement of needing a key.\n",
        "          mat[str(idx)+file.columns[idy]][str(idx+1)+file.columns[ord(c)-97]]= 1\n",
        "          switchfloor[str(idx)].append(file.columns[ord(c)-97])\n",
        "      # Edge for this floor to next floor without switch.\n",
        "      if not ex:\n",
        "        if str(idx) + file.columns[idy] not in mat:\n",
        "            mat[str(idx)+file.columns[idy]] = {}\n",
        "        mat[str(idx)+file.columns[idy]][str(idx+1)+file.columns[idy]] = 0\n",
        "\n",
        "    # If it's an exit switch cell.\n",
        "    elif y == 'Exit':\n",
        "      if str(idx) + file.columns[idy] not in mat:\n",
        "            mat[str(idx)+file.columns[idy]] = {}\n",
        "      \n",
        "      # Heavily penalize so that no more steps can be taken here on.\n",
        "      mat[str(idx)+file.columns[idy]][str(idx+1)+file.columns[idy]] = 10000\n",
        "\n",
        "    # Normal walk to next floor, no penalty.\n",
        "    elif y == 0 or y == \"Mew\":\n",
        "      if str(idx) + file.columns[idy] not in mat:\n",
        "            mat[str(idx)+file.columns[idy]] = {}\n",
        "      mat[str(idx)+file.columns[idy]][str(idx+1)+file.columns[idy]] = 0"
      ],
      "execution_count": 0,
      "outputs": [
        {
          "output_type": "stream",
          "text": [
            "/usr/local/lib/python3.6/dist-packages/ipykernel_launcher.py:11: FutureWarning: Method .as_matrix will be removed in a future version. Use .values instead.\n",
            "  # This is added back by InteractiveShellApp.init_path()\n"
          ],
          "name": "stderr"
        }
      ]
    },
    {
      "cell_type": "code",
      "metadata": {
        "id": "makfafeGKfMz",
        "colab_type": "code",
        "colab": {}
      },
      "source": [
        "start = '0Normal'\n",
        "distance = {}\n",
        "pred = {}\n",
        "keys = {}\n",
        "\n",
        "# Initialize Bellman Ford distances.\n",
        "for x in range(99):\n",
        "  for y in file.columns:\n",
        "    distance[str(x)+y] = 0 if str(x)+y == start else float('inf')\n",
        "    keys[str(x)+y] = 0\n",
        "\n",
        "# Bellman Ford on graph we made above.\n",
        "for i in range(len(mat)):\n",
        "  for v in mat:\n",
        "    for n in mat[v]:\n",
        "      if \"-\" in n:\n",
        "        continue\n",
        "      distance[n] = min(distance[n], distance[v] + mat[v][n])\n",
        "      distance[n] = abs(distance[n])\n",
        "      if distance[n] >= distance[v]+mat[v][n]:\n",
        "        pred[n] = v "
      ],
      "execution_count": 0,
      "outputs": []
    },
    {
      "cell_type": "code",
      "metadata": {
        "id": "gy_y0eEmtING",
        "colab_type": "code",
        "outputId": "fc8af82c-0cf2-4eda-9772-0a3bd9940d62",
        "colab": {
          "base_uri": "https://localhost:8080/",
          "height": 199
        }
      },
      "source": [
        "# Retrieve path from our algorithm above.\n",
        "print(\"Enter desired destination in format: (Number-2)Type)\")\n",
        "print(\"E.g: 97Fire for Fire exit on the 99th floor.\")\n",
        "it = input()\n",
        "numk = 0\n",
        "nums = 0\n",
        "path = []\n",
        "while it != start:\n",
        "  path.append(it)\n",
        "  it = pred[it]\n",
        "path.append(it)\n",
        "print(\"Distance: \", distance[path[1]]/99)\n",
        "print(\"Steps to follow:\")\n",
        "prev = None\n",
        "prevcol = None\n",
        "for idx,x in enumerate(reversed(path)):\n",
        "  if x in keyfloor:\n",
        "      print(str(idx)+\".\",x, \" (Key)\")\n",
        "      numk+=1\n",
        "  for y in file.columns:\n",
        "    if y in x:\n",
        "      mycol = y\n",
        "      break\n",
        "  if prevcol != None and prevcol != mycol: \n",
        "    print(str(idx)+\".\",prev, \" (Switch)\")\n",
        "    nums+=1\n",
        "  if idx == len(path)-1:\n",
        "    print(str(idx)+\".\", x, \"(Exit)\", \"\\nNeeded: % 2d keys and % 2d switches\" % (numk,nums))\n",
        "  prevcol = mycol\n",
        "  prev = x"
      ],
      "execution_count": 0,
      "outputs": [
        {
          "output_type": "stream",
          "text": [
            "Enter desired destination in format: (Number-2)Type)\n",
            "E.g: 97Fire for Fire exit on the 99th floor.\n",
            "12Normal\n",
            "Distance:  0.0\n",
            "Steps to follow:\n",
            "0. 0Normal  (Key)\n",
            "2. 2Normal  (Key)\n",
            "12. 12Normal (Exit) \n",
            "Needed:  2 keys and  0 switches\n"
          ],
          "name": "stdout"
        }
      ]
    },
    {
      "cell_type": "code",
      "metadata": {
        "id": "UGEIwJxqsQOP",
        "colab_type": "code",
        "colab": {}
      },
      "source": [
        "# <--------- IGNORE BELOW LINE ---------->\n",
        "\n",
        "import pandas as pd\n",
        "from pprint import pprint\n",
        "backfile = pd.ExcelFile(\"TC-guide.xlsx\")\n",
        "backfile = pd.read_excel(backfile, \"SwitchForm\")"
      ],
      "execution_count": 0,
      "outputs": []
    },
    {
      "cell_type": "code",
      "metadata": {
        "id": "lul3z7cJsbOq",
        "colab_type": "code",
        "colab": {}
      },
      "source": [
        "# Fill all the NaNs with 0s.\n",
        "backfile = backfile.fillna(0)\n",
        "\n",
        "# Adjacency matrix for graph.\n",
        "mat = {}\n",
        "keys = set([])\n",
        "ex = set([])\n",
        "switches = {}\n",
        "\n",
        "# For every row in our excel file.\n",
        "for idx,x in enumerate(backfile.as_matrix()):\n",
        "  for idy,y in enumerate(x):\n",
        "\n",
        "    # If this is a key.\n",
        "    if y != 0:\n",
        "      if y == \"Key\":\n",
        "            if str(idx) + backfile.columns[idy] not in mat:\n",
        "              mat[str(idx)+backfile.columns[idy]] = {}\n",
        "            mat[str(idx)+backfile.columns[idy]][str(idx-1)+backfile.columns[idy]] = -1\n",
        "            keys.add(str(idx)+backfile.columns[idy])\n",
        "            continue\n",
        "      #For all cells with format \"something+switch\"\n",
        "      if \"+\" in y:          \n",
        "          # For cells with format \"Exit+switch\"\n",
        "          if \"Exit\" in y:\n",
        "            print(y)\n",
        "            print(y)\n",
        "            ex.add((idx,backfile.columns[idy]))\n",
        "          # For cells with format \"Key+switch\"\n",
        "          if \"Key\" in y:\n",
        "            keys.add(str(idx)+backfile.columns[idy])\n",
        "          y = y[y.index(\"+\")+1:]\n",
        "\n",
        "      # Converting all switches to edges in graph\n",
        "      for c in y:\n",
        "        # Convert to lower for consistency.\n",
        "        c = c.lower()\n",
        "        \n",
        "        # If the character is a letter from c to q, based on columns in the xl\n",
        "        if ord(c) >= 97 and ord(c) <= ord('q') :\n",
        "          # If our floor+chamber string is not in the graph, add the entry.\n",
        "          if str(idx) + backfile.columns[idy] not in mat:\n",
        "            mat[str(idx)+backfile.columns[idy]] = {}\n",
        "          # Form edge from switch on this floor to next floor in resp. chamber.\n",
        "          # Weighted 1 to add requirement of needing a key.\n",
        "          mat[str(idx)+backfile.columns[idy]][str(idx-1)+backfile.columns[ord(c)-97]]= 1\n",
        "      \n",
        "      # Edge for this floor to next floor without switch.\n",
        "      mat[str(idx)+backfile.columns[idy]][str(idx-1)+backfile.columns[idy]] = 0\n",
        "\n",
        "    # Normal walk to next floor, no penalty.\n",
        "    elif y == 0:\n",
        "      if str(idx) + backfile.columns[idy] not in mat:\n",
        "            mat[str(idx)+backfile.columns[idy]] = {}\n",
        "      mat[str(idx)+backfile.columns[idy]][str(idx-1)+backfile.columns[idy]] = 0\n",
        "for exits in ex:\n",
        "  print(str(exits[0])+exits[1])\n",
        "  mat[str(exits[0]+1)+exits[1]].pop(str(exits[0])+exits[1])\n",
        "print(mat)"
      ],
      "execution_count": 0,
      "outputs": []
    },
    {
      "cell_type": "code",
      "metadata": {
        "id": "pfZDB_pbyaw1",
        "colab_type": "code",
        "colab": {}
      },
      "source": [
        "start = \"26Fire\"\n",
        "dest = \"0Normal\"\n",
        "queue = [[start]]\n",
        "pred = {}\n",
        "pred[start] = (None,0)\n",
        "visited = set([])\n",
        "exit = False\n",
        "\n",
        "while queue[-1]:\n",
        "  queue.append([])\n",
        "  while queue[-2]:\n",
        "    node = queue[-2].pop()\n",
        "    for neighbor in mat[node]:\n",
        "      if \"-\" in neighbor:\n",
        "        continue\n",
        "      if neighbor != dest and neighbor not in visited:\n",
        "        if mat[node][neighbor] == -1:\n",
        "          pred[neighbor] = (node,pred[node][1]+1)\n",
        "        if neighbor in keys:\n",
        "          pred[neighbor] = (node,pred[node][1]-1)\n",
        "        elif mat[node][neighbor] == 'Exit':\n",
        "          continue\n",
        "        else:\n",
        "          pred[neighbor] = (node,pred[node][1])\n",
        "        queue[-1].append(neighbor)\n",
        "        visited.add(neighbor)\n",
        "      elif neighbor == dest:\n",
        "        print(neighbor,pred[node])\n",
        "        if pred[node][1]-1 <= 0:\n",
        "          pred[neighbor] = (node,pred[node][1])\n",
        "          exit = True\n",
        "          break\n",
        "    if exit:\n",
        "      break\n",
        "  if exit:\n",
        "    break\n",
        "  \n",
        "print(pred)"
      ],
      "execution_count": 0,
      "outputs": []
    },
    {
      "cell_type": "code",
      "metadata": {
        "id": "qaMo4lab9cHD",
        "colab_type": "code",
        "colab": {}
      },
      "source": [
        "# Retrieve path from our algorithm above.\n",
        "it = '0Normal'\n",
        "path = []\n",
        "while it != start:\n",
        "  path.append(it)\n",
        "  it = pred[it][0]\n",
        "path.append(it)\n",
        "print(\"Steps to follow:\")\n",
        "prev = None\n",
        "prevcol = None\n",
        "for idx,x in enumerate(path):\n",
        "  if x in keys:\n",
        "      print(str(idx)+\".\",x, \" (Key)\")\n",
        "  for y in backfile.columns:\n",
        "    if y in x:\n",
        "      mycol = y\n",
        "      break\n",
        "  if prevcol != None and prevcol != mycol: \n",
        "    print(str(idx)+\".\",prev)\n",
        "  if idx == len(path)-1:\n",
        "    print(str(idx)+\".\", x)\n",
        "  prevcol = mycol\n",
        "  prev = x"
      ],
      "execution_count": 0,
      "outputs": []
    },
    {
      "cell_type": "code",
      "metadata": {
        "id": "yng4fIHGBH1L",
        "colab_type": "code",
        "colab": {}
      },
      "source": [
        "print('6Fire' in keys)"
      ],
      "execution_count": 0,
      "outputs": []
    }
  ]
}