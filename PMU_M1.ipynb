{
 "cells": [
  {
   "cell_type": "code",
   "execution_count": 7,
   "metadata": {
    "colab": {},
    "colab_type": "code",
    "id": "ZU9chtHOATdq"
   },
   "outputs": [],
   "source": [
    "import pandas as pd\n",
    "from pprint import pprint"
   ]
  },
  {
   "cell_type": "code",
   "execution_count": 8,
   "metadata": {
    "colab": {},
    "colab_type": "code",
    "id": "jtEja_LxA1AX"
   },
   "outputs": [],
   "source": [
    "file = pd.ExcelFile(\"TC-guide.xlsx\")\n",
    "file = pd.read_excel(file, \"Data\")"
   ]
  },
  {
   "cell_type": "code",
   "execution_count": 9,
   "metadata": {
    "colab": {
     "base_uri": "https://localhost:8080/",
     "height": 73
    },
    "colab_type": "code",
    "id": "WkZlsS-SBR3T",
    "outputId": "19b8cece-e396-4ad4-bc79-a4412e9d519a"
   },
   "outputs": [],
   "source": [
    "%%capture\n",
    "# Fill all the NaNs with 0s.\n",
    "file = file.fillna(0)\n",
    "!pip install ipython_blocking"
   ]
  },
  {
   "cell_type": "code",
   "execution_count": 10,
   "metadata": {},
   "outputs": [],
   "source": [
    "import pickle as pkl\n",
    "f = open(\"graph_keys.pkl\",\"rb\")\n",
    "mat = pkl.load(f)\n",
    "keyfloor = pkl.load(f)\n",
    "f.close()"
   ]
  },
  {
   "cell_type": "code",
   "execution_count": 11,
   "metadata": {
    "colab": {},
    "colab_type": "code",
    "id": "makfafeGKfMz"
   },
   "outputs": [],
   "source": [
    "start = '2Normal'\n",
    "distance = {}\n",
    "pred = {}\n",
    "keys = {}\n",
    "# Initialize Bellman Ford distances.\n",
    "for x in range(101):\n",
    "  for y in file.columns:\n",
    "    distance[str(x)+y] = 0 if str(x)+y == start else float('inf')\n",
    "    keys[str(x)+y] = 0\n",
    "\n",
    "# Bellman Ford on graph we made above.\n",
    "for i in range(len(mat)):\n",
    "  for v in mat:\n",
    "    for n in mat[v]:\n",
    "      if \"-\" in n:\n",
    "        continue\n",
    "      distance[n] = min(distance[n], distance[v] + mat[v][n])\n",
    "      distance[n] = abs(distance[n])\n",
    "      if distance[n] >= distance[v]+mat[v][n]:\n",
    "        pred[n] = v "
   ]
  },
  {
   "cell_type": "code",
   "execution_count": 12,
   "metadata": {},
   "outputs": [
    {
     "data": {
      "application/vnd.jupyter.widget-view+json": {
       "model_id": "4fc9a0aea4a84759b85981970f931ff6",
       "version_major": 2,
       "version_minor": 0
      },
      "text/plain": [
       "HBox(children=(Dropdown(description='Exit Type:', options=('Normal', 'Fire', 'Grass', 'Water', 'Electric', 'Ps…"
      ]
     },
     "metadata": {},
     "output_type": "display_data"
    },
    {
     "data": {
      "application/vnd.jupyter.widget-view+json": {
       "model_id": "79b1d929ce9648118ac0f73e9736f7c5",
       "version_major": 2,
       "version_minor": 0
      },
      "text/plain": [
       "Button(description='Find path from 2nd Normal Floor.', style=ButtonStyle(button_color='lightblue'))"
      ]
     },
     "metadata": {},
     "output_type": "display_data"
    }
   ],
   "source": [
    "import ipywidgets as widgets\n",
    "from IPython.display import display\n",
    "import ipython_blocking\n",
    "\n",
    "mytype = widgets.Dropdown(\n",
    "    options=file.columns,\n",
    "    value='Normal',\n",
    "    description='Exit Type:',\n",
    "    disabled=False,\n",
    ")\n",
    "mynum = widgets.BoundedIntText(\n",
    "    value=2,\n",
    "    min=2,\n",
    "    max=99,\n",
    "    step=1,\n",
    "    description='Floor No:',\n",
    "    disabled=False\n",
    ")\n",
    "box = widgets.HBox([mytype, mynum])\n",
    "display(box)\n",
    "\n",
    "from IPython.display import Javascript, display\n",
    "from ipywidgets import widgets\n",
    "\n",
    "\n",
    "\n",
    "button = widgets.Button(description=\"Find path from 2nd Normal Floor.\")\n",
    "button.style.button_color = 'lightblue'\n",
    "\n",
    "display(button)"
   ]
  },
  {
   "cell_type": "code",
   "execution_count": null,
   "metadata": {},
   "outputs": [],
   "source": [
    "%blockrun button"
   ]
  },
  {
   "cell_type": "code",
   "execution_count": null,
   "metadata": {
    "colab": {
     "base_uri": "https://localhost:8080/",
     "height": 199
    },
    "colab_type": "code",
    "id": "gy_y0eEmtING",
    "outputId": "fc8af82c-0cf2-4eda-9772-0a3bd9940d62"
   },
   "outputs": [],
   "source": [
    "box.close()\n",
    "button.close()\n",
    "# Retrieve path from our algorithm above.\n",
    "it = str(mynum.value) + mytype.value\n",
    "numk = 0\n",
    "nums = 0\n",
    "path = []\n",
    "out = widgets.Output(layout={'border': '1px solid black'})\n",
    "while it != start:\n",
    "    path.append(it)\n",
    "    it = pred[it]\n",
    "path.append(it)\n",
    "prev = None\n",
    "prevcol = None\n",
    "i = 1\n",
    "with out:\n",
    "    print(\"Distance: \", distance[path[1]]/99)\n",
    "    print(\"Steps to follow:\")\n",
    "    spaces = \" \"\n",
    "    for idx,x in enumerate(reversed(path)):\n",
    "        if i < 10:\n",
    "            spaces = \" \"\n",
    "        else:\n",
    "            spaces = \"\"\n",
    "        if x in keyfloor:\n",
    "            print(str(i)+\".\",x, \" (Key)\")\n",
    "            numk+=1\n",
    "            i+=1\n",
    "        for y in file.columns:\n",
    "            if y in x:\n",
    "                mycol = y\n",
    "                break\n",
    "        if prevcol != None and prevcol != mycol: \n",
    "            print(str(i)+\".\",prev, \" (Switch)\")\n",
    "            nums+=1\n",
    "            i+=1\n",
    "        if idx == len(path)-1:\n",
    "            print(str(i)+\".\", x, \"(Exit)\", \"\\nNeeded: % 2d keys and % 2d switches\" % (numk,nums))\n",
    "        prevcol = mycol\n",
    "        prev = x\n",
    "display(out)\n",
    "def run_all(ev):\n",
    "    display(Javascript('IPython.notebook.execute_all_cells()'))\n",
    "    button.close()\n",
    "    out.close()\n",
    "\n",
    "button = widgets.Button(description=\"Go back.\")\n",
    "button.on_click(run_all)\n",
    "display(button)"
   ]
  }
 ],
 "metadata": {
  "colab": {
   "collapsed_sections": [],
   "name": "PMU stuff.ipynb",
   "provenance": []
  },
  "kernelspec": {
   "display_name": "Python 3",
   "language": "python",
   "name": "python3"
  },
  "language_info": {
   "codemirror_mode": {
    "name": "ipython",
    "version": 3
   },
   "file_extension": ".py",
   "mimetype": "text/x-python",
   "name": "python",
   "nbconvert_exporter": "python",
   "pygments_lexer": "ipython3",
   "version": "3.7.3"
  }
 },
 "nbformat": 4,
 "nbformat_minor": 1
}
